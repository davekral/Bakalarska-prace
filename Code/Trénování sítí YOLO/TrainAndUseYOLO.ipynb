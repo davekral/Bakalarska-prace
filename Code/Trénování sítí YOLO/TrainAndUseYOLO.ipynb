{
  "nbformat": 4,
  "nbformat_minor": 0,
  "metadata": {
    "colab": {
      "provenance": [],
      "gpuType": "T4"
    },
    "kernelspec": {
      "name": "python3",
      "display_name": "Python 3"
    },
    "language_info": {
      "name": "python"
    },
    "accelerator": "GPU"
  },
  "cells": [
    {
      "cell_type": "markdown",
      "source": [
        "Imporot knihovny ultralytics"
      ],
      "metadata": {
        "id": "Ommpcr0OQhtg"
      }
    },
    {
      "cell_type": "code",
      "execution_count": 1,
      "metadata": {
        "colab": {
          "base_uri": "https://localhost:8080/"
        },
        "id": "rClbeF7RQZzV",
        "outputId": "39421d6f-964c-4711-f1c1-d62160213905"
      },
      "outputs": [
        {
          "output_type": "stream",
          "name": "stdout",
          "text": [
            "Ultralytics 8.3.131 🚀 Python-3.11.12 torch-2.6.0+cu124 CUDA:0 (Tesla T4, 15095MiB)\n",
            "Setup complete ✅ (2 CPUs, 12.7 GB RAM, 41.4/235.7 GB disk)\n"
          ]
        }
      ],
      "source": [
        "%pip install ultralytics\n",
        "import ultralytics\n",
        "ultralytics.checks()"
      ]
    },
    {
      "cell_type": "markdown",
      "source": [
        "Nahrání datasetu (verze s google diskem)"
      ],
      "metadata": {
        "id": "ZAP8RaeiQs-r"
      }
    },
    {
      "cell_type": "code",
      "source": [
        "from google.colab import drive\n",
        "import zipfile\n",
        "import os\n",
        "\n",
        "drive.mount('/content/drive')\n",
        "\n",
        "# Cesta k datasetu na Google Disku\n",
        "zip_soubor = \"/content/drive/MyDrive/FAVka/3.ročník/DatasetYoloFull.zip\"\n",
        "cilova_slozka = \"Dataset_detection\"\n",
        "\n",
        "os.makedirs(cilova_slozka, exist_ok=True)\n",
        "\n",
        "with zipfile.ZipFile(zip_soubor, 'r') as zip_ref:\n",
        "    zip_ref.extractall(cilova_slozka)\n",
        "\n",
        "print(f\"✅ Soubor {zip_soubor} byl rozbalen do složky: {cilova_slozka}\")\n"
      ],
      "metadata": {
        "colab": {
          "base_uri": "https://localhost:8080/"
        },
        "id": "iCBcXRDgQtRv",
        "outputId": "056ba282-6215-4e8a-a2a3-0c7fec678f59"
      },
      "execution_count": null,
      "outputs": [
        {
          "output_type": "stream",
          "name": "stdout",
          "text": [
            "Mounted at /content/drive\n"
          ]
        }
      ]
    },
    {
      "cell_type": "markdown",
      "source": [
        "Trénováání detekčního modelu YOLO11\n",
        "\n",
        "Možnost použít následující modely:\n",
        "1.   yolo11n.pt\n",
        "1.   yolo11s.pt\n",
        "1.   yolo11m.pt\n",
        "2.   yolo11l.pt\n",
        "2.   yolo11x.pt\n",
        "\n",
        "\n"
      ],
      "metadata": {
        "id": "_X054rsZRHBB"
      }
    },
    {
      "cell_type": "code",
      "source": [
        "!yolo train model=yolo11s.pt data=/content/Dataset_detection/DatasetYoloFull/data.yaml epochs=10 imgsz=640"
      ],
      "metadata": {
        "id": "FEeaHG_sRTOE"
      },
      "execution_count": null,
      "outputs": []
    },
    {
      "cell_type": "markdown",
      "source": [
        "Trénování klasifikačního modelu YOLO11\n",
        "\n",
        "Možnost použít následující modely:\n",
        "\n",
        "\n",
        "1.   yolo11n-cls.pt\n",
        "1.   yolo11s-cls.pt\n",
        "2.   yolo11m-cls.pt\n",
        "2.   yolo11l-cls.pt\n",
        "2.   yolo11x-cls.pt\n",
        "\n"
      ],
      "metadata": {
        "id": "ePEXdIKgRqxN"
      }
    },
    {
      "cell_type": "code",
      "source": [
        "from ultralytics import YOLO\n",
        "model = YOLO(\"yolo11n-cls.pt\")\n",
        "results = model.train(data=\"/content/Dataset_classification/dataset_frames\", epochs=30, imgsz=640)"
      ],
      "metadata": {
        "id": "opa0fW2WRpLg"
      },
      "execution_count": null,
      "outputs": []
    },
    {
      "cell_type": "markdown",
      "source": [
        "Klasifikační predikce s grafem pro video"
      ],
      "metadata": {
        "id": "i03H03z3SYjU"
      }
    },
    {
      "cell_type": "code",
      "source": [
        "import cv2\n",
        "import matplotlib.pyplot as plt\n",
        "import numpy as np\n",
        "from io import BytesIO\n",
        "from PIL import Image\n",
        "\n",
        "# Parametry\n",
        "video_path = '/content/video.mp4'\n",
        "prag = 0.7  # <- nastav si práh, od kdy se má klasifikace zobrazit\n",
        "\n",
        "# Výstupy modelu\n",
        "results = model(video_path, stream=True)\n",
        "\n",
        "# Video\n",
        "cap = cv2.VideoCapture(video_path)\n",
        "fps = cap.get(cv2.CAP_PROP_FPS)\n",
        "width = int(cap.get(cv2.CAP_PROP_FRAME_WIDTH))\n",
        "height = int(cap.get(cv2.CAP_PROP_FRAME_HEIGHT))\n",
        "\n",
        "# Výstupní video\n",
        "out_height = height + 300  # 300px pro graf\n",
        "out = cv2.VideoWriter('output.mp4', cv2.VideoWriter_fourcc(*'mp4v'), fps, (width, out_height))\n",
        "\n",
        "# Data pro graf\n",
        "all_probs = []\n",
        "labels_dict = None\n",
        "frame_index = 0\n",
        "\n",
        "for result in results:\n",
        "    ret, frame = cap.read()\n",
        "    if not ret:\n",
        "        break\n",
        "\n",
        "    # Pravděpodobnosti + labely\n",
        "    probs = result.probs.data.tolist()\n",
        "    labels_dict = result.names\n",
        "    all_probs.append(probs)\n",
        "\n",
        "    # 🧠 Vyber nejpravděpodobnější třídu\n",
        "    max_index = int(np.argmax(probs))\n",
        "    max_prob = probs[max_index]\n",
        "    label = labels_dict[max_index]\n",
        "\n",
        "    # 🖋️ Pokud přesáhne práh, vykresli do rohu\n",
        "    if max_prob >= prag:\n",
        "        text = f\"{label} ({max_prob:.0%})\"\n",
        "        cv2.putText(frame, text, (10, 30), cv2.FONT_HERSHEY_SIMPLEX, 1.0, (0, 255, 0), 2)\n",
        "\n",
        "    # 📊 Data pro graf\n",
        "    arr = np.array(all_probs).T  # každá řádka = 1 třída\n",
        "\n",
        "    # 📈 Vykreslení grafu\n",
        "    fig, ax = plt.subplots(figsize=(width / 100, 3))\n",
        "    for i, y in enumerate(arr):\n",
        "        ax.plot(y, label=labels_dict[i])\n",
        "    ax.set_ylim(0, 1)\n",
        "    ax.set_xlim(0, len(all_probs))\n",
        "    ax.legend(loc='upper right')\n",
        "    ax.set_title(f'Snímek: {frame_index}')\n",
        "    plt.tight_layout()\n",
        "\n",
        "    # Uložení grafu jako obrázku\n",
        "    buf = BytesIO()\n",
        "    plt.savefig(buf, format='png')\n",
        "    plt.close(fig)\n",
        "    buf.seek(0)\n",
        "    graph_img = Image.open(buf)\n",
        "    graph_img = graph_img.resize((width, 300))\n",
        "    graph_np = np.array(graph_img)\n",
        "    graph_np = cv2.cvtColor(graph_np, cv2.COLOR_RGB2BGR)\n",
        "\n",
        "    # Spojení videa a grafu\n",
        "    combined = np.vstack((frame, graph_np))\n",
        "    out.write(combined)\n",
        "    frame_index += 1\n",
        "\n",
        "cap.release()\n",
        "out.release()\n",
        "\n",
        "print(\"✅ Hotovo! Výstupní video je uložené jako 'output.mp4'\")\n"
      ],
      "metadata": {
        "id": "9T2jbKg_SYHu"
      },
      "execution_count": null,
      "outputs": []
    },
    {
      "cell_type": "markdown",
      "source": [
        "Detekční predikce pro video\n",
        "\n",
        "Možnost nastavení jak moc se mohou detekce překrývat (iou) a s jako přesností se budou predikce objevovat (conf)"
      ],
      "metadata": {
        "id": "hg9xtKaaSgH2"
      }
    },
    {
      "cell_type": "code",
      "source": [
        "!yolo predict model=/content/runs/detect/train/weights/best.pt source='/content/video4.mp4' conf=0.60 iou=0.3 save=True"
      ],
      "metadata": {
        "id": "V4t-YmCJS3S2"
      },
      "execution_count": null,
      "outputs": []
    }
  ]
}